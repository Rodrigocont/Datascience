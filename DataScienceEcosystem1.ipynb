{
  "metadata": {
    "kernelspec": {
      "name": "python",
      "display_name": "Python (Pyodide)",
      "language": "python"
    },
    "language_info": {
      "codemirror_mode": {
        "name": "python",
        "version": 3
      },
      "file_extension": ".py",
      "mimetype": "text/x-python",
      "name": "python",
      "nbconvert_exporter": "python",
      "pygments_lexer": "ipython3",
      "version": "3.8"
    }
  },
  "nbformat_minor": 4,
  "nbformat": 4,
  "cells": [
    {
      "cell_type": "markdown",
      "source": "### Data science Tools and Ecosystem",
      "metadata": {}
    },
    {
      "cell_type": "markdown",
      "source": "In this notebook, Data science tools and ecosystem are summarized",
      "metadata": {}
    },
    {
      "cell_type": "markdown",
      "source": "Some of the popular lenguagues that data scientist use are:\n1. Phyton\n2. R\n3. SQL\n4. C++\n5. Java etc..;",
      "metadata": {}
    },
    {
      "cell_type": "markdown",
      "source": "Some of the comonly used librearies used by data scientist include:\n1. TensorFlow\n2. NumPy\n3. Pandas\n4. SciPy\n5. Matplotlib\n6. keras\n7. scikit-learn\n8. Pytorch, etc..;",
      "metadata": {}
    },
    {
      "cell_type": "markdown",
      "source": "|Data science Tools|\n|---|\n|SAS|\n|Apache Hadoop|\n|TenserFlow|\n|Spark|\n",
      "metadata": {}
    },
    {
      "cell_type": "markdown",
      "source": "### Below are some few examples of ecaluating arithmetic expression in Python.",
      "metadata": {}
    },
    {
      "cell_type": "code",
      "source": "#this is a common arithmetic example to multiply and then add intigers\n(3*6)+5",
      "metadata": {
        "trusted": true
      },
      "outputs": [
        {
          "execution_count": 5,
          "output_type": "execute_result",
          "data": {
            "text/plain": "23"
          },
          "metadata": {}
        }
      ],
      "execution_count": 5
    },
    {
      "cell_type": "code",
      "source": "#this will convert 300 minutes to hours dividing by 60\n300/60",
      "metadata": {
        "trusted": true
      },
      "outputs": [
        {
          "execution_count": 6,
          "output_type": "execute_result",
          "data": {
            "text/plain": "5.0"
          },
          "metadata": {}
        }
      ],
      "execution_count": 6
    },
    {
      "cell_type": "markdown",
      "source": "_Objective_\n* List popular lenguagues for data science\n* List popular libraries for Data science\n* List of wekk known Data science tools\n* How to provide comments in the cell             ",
      "metadata": {}
    },
    {
      "cell_type": "markdown",
      "source": "## Author\nRodrigo Contreras Acosta",
      "metadata": {}
    }
  ]
}